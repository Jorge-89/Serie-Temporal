{
  "nbformat": 4,
  "nbformat_minor": 0,
  "metadata": {
    "colab": {
      "name": "Copia de Untitled35.ipynb",
      "provenance": [],
      "toc_visible": true,
      "authorship_tag": "ABX9TyOk4pr1q8p+rdzmCZxscYip",
      "include_colab_link": true
    },
    "kernelspec": {
      "name": "python3",
      "display_name": "Python 3"
    },
    "language_info": {
      "name": "python"
    }
  },
  "cells": [
    {
      "cell_type": "markdown",
      "metadata": {
        "id": "view-in-github",
        "colab_type": "text"
      },
      "source": [
        "<a href=\"https://colab.research.google.com/github/Jorge-89/Serie-Temporal/blob/main/Serie_Temperatura.ipynb\" target=\"_parent\"><img src=\"https://colab.research.google.com/assets/colab-badge.svg\" alt=\"Open In Colab\"/></a>"
      ]
    },
    {
      "cell_type": "markdown",
      "metadata": {
        "id": "mxkHNYlIAUYs"
      },
      "source": [
        "# Red Neuronal"
      ]
    },
    {
      "cell_type": "code",
      "metadata": {
        "id": "FMqfvipD0wWQ"
      },
      "source": [
        "# importo librerias necesarias\n",
        "import pandas as pd\n",
        "import numpy as np\n",
        "import matplotlib.pylab as plt\n",
        "%matplotlib inline\n",
        "plt.rcParams['figure.figsize'] = (16, 9)\n",
        "plt.style.use('fast')\n",
        " \n",
        "from keras.models import Sequential\n",
        "from keras.layers import Dense,Activation,Flatten\n",
        "from sklearn.preprocessing import MinMaxScaler\n",
        "import tensorflow as tf\n",
        "from tensorflow import keras\n"
      ],
      "execution_count": 1,
      "outputs": []
    },
    {
      "cell_type": "code",
      "metadata": {
        "colab": {
          "base_uri": "https://localhost:8080/"
        },
        "id": "k5nTal_U1Kg9",
        "outputId": "0feae2da-cd96-45d1-f161-092b0b1794b4"
      },
      "source": [
        "#se importa el set de datos\n",
        "url = 'https://raw.githubusercontent.com/Jorge-89/Serie-Temporal/main/temp_junio.csv'\n",
        "df = pd.read_csv(url, sep=\";\", skiprows=1,header=None,index_col=0, squeeze=True,names=['fecha','unidades'])\n",
        "\n",
        "df.head()\n",
        "\n",
        "\n"
      ],
      "execution_count": 2,
      "outputs": [
        {
          "output_type": "execute_result",
          "data": {
            "text/plain": [
              "fecha\n",
              "1/6/2013    10.66\n",
              "2/6/2013     9.86\n",
              "3/6/2013     7.98\n",
              "4/6/2013    11.72\n",
              "5/6/2013    12.80\n",
              "Name: unidades, dtype: float64"
            ]
          },
          "metadata": {},
          "execution_count": 2
        }
      ]
    },
    {
      "cell_type": "code",
      "metadata": {
        "colab": {
          "base_uri": "https://localhost:8080/"
        },
        "id": "mU7SGHzB7k30",
        "outputId": "6938fb98-a67e-4357-cb55-4f9be212a5f0"
      },
      "source": [
        "len(df)"
      ],
      "execution_count": 3,
      "outputs": [
        {
          "output_type": "execute_result",
          "data": {
            "text/plain": [
              "240"
            ]
          },
          "metadata": {},
          "execution_count": 3
        }
      ]
    },
    {
      "cell_type": "code",
      "metadata": {
        "colab": {
          "base_uri": "https://localhost:8080/"
        },
        "id": "-ZmcMZas1VKF",
        "outputId": "183a995f-bb8c-4aa7-d2bc-4e5ac32967b4"
      },
      "source": [
        "#colocando la fecha ocmo indice podemos rapidamente tener valores de fechas maximos o minimos\n",
        "\t\n",
        "print(df.index.min())\n",
        "print(df.index.max())\n"
      ],
      "execution_count": 4,
      "outputs": [
        {
          "output_type": "stream",
          "name": "stdout",
          "text": [
            "1/6/2013\n",
            "9/6/2020\n"
          ]
        }
      ]
    },
    {
      "cell_type": "code",
      "metadata": {
        "colab": {
          "base_uri": "https://localhost:8080/",
          "height": 206
        },
        "id": "vT-yCG2A2Y0f",
        "outputId": "b5d0b256-aba3-4348-e5df-9e6889755b5f"
      },
      "source": [
        "\n",
        "PASOS=10\n",
        "\n",
        "# convert series to supervised learning\n",
        "def series_to_supervised(data, n_in=1, n_out=1, dropnan=True):\n",
        "    n_vars = 1 if type(data) is list else data.shape[1]\n",
        "    df = pd.DataFrame(data)\n",
        "    cols, names = list(), list()\n",
        "    # input sequence (t-n, ... t-1)\n",
        "    for i in range(n_in, 0, -1):\n",
        "        cols.append(df.shift(i))\n",
        "        names += [('var%d(t-%d)' % (j+1, i)) for j in range(n_vars)]\n",
        "    # forecast sequence (t, t+1, ... t+n)\n",
        "    for i in range(0, n_out):\n",
        "        cols.append(df.shift(-i))\n",
        "        if i == 0:\n",
        "            names += [('var%d(t)' % (j+1)) for j in range(n_vars)]\n",
        "        else:\n",
        "            names += [('var%d(t+%d)' % (j+1, i)) for j in range(n_vars)]\n",
        "    # put it all together\n",
        "    agg = pd.concat(cols, axis=1)\n",
        "    agg.columns = names\n",
        "    # drop rows with NaN values\n",
        "    if dropnan:\n",
        "        agg.dropna(inplace=True)\n",
        "    return agg\n",
        "\n",
        "# load dataset\n",
        "values = df.values\n",
        "# ensure all data is float\n",
        "values = values.astype('float32')\n",
        "# normalize features\n",
        "scaler = MinMaxScaler(feature_range=(-1, 1))\n",
        "values=values.reshape(-1, 1) # esto lo hacemos porque tenemos 1 sola dimension\n",
        "scaled = scaler.fit_transform(values)\n",
        "# frame as supervised learning\n",
        "reframed = series_to_supervised(scaled, PASOS, 1)\n",
        "reframed.head()\n"
      ],
      "execution_count": 3,
      "outputs": [
        {
          "output_type": "execute_result",
          "data": {
            "text/html": [
              "<div>\n",
              "<style scoped>\n",
              "    .dataframe tbody tr th:only-of-type {\n",
              "        vertical-align: middle;\n",
              "    }\n",
              "\n",
              "    .dataframe tbody tr th {\n",
              "        vertical-align: top;\n",
              "    }\n",
              "\n",
              "    .dataframe thead th {\n",
              "        text-align: right;\n",
              "    }\n",
              "</style>\n",
              "<table border=\"1\" class=\"dataframe\">\n",
              "  <thead>\n",
              "    <tr style=\"text-align: right;\">\n",
              "      <th></th>\n",
              "      <th>var1(t-10)</th>\n",
              "      <th>var1(t-9)</th>\n",
              "      <th>var1(t-8)</th>\n",
              "      <th>var1(t-7)</th>\n",
              "      <th>var1(t-6)</th>\n",
              "      <th>var1(t-5)</th>\n",
              "      <th>var1(t-4)</th>\n",
              "      <th>var1(t-3)</th>\n",
              "      <th>var1(t-2)</th>\n",
              "      <th>var1(t-1)</th>\n",
              "      <th>var1(t)</th>\n",
              "    </tr>\n",
              "  </thead>\n",
              "  <tbody>\n",
              "    <tr>\n",
              "      <th>10</th>\n",
              "      <td>0.619351</td>\n",
              "      <td>0.576821</td>\n",
              "      <td>0.476874</td>\n",
              "      <td>0.675704</td>\n",
              "      <td>0.733121</td>\n",
              "      <td>0.502392</td>\n",
              "      <td>0.471558</td>\n",
              "      <td>0.570973</td>\n",
              "      <td>0.683679</td>\n",
              "      <td>0.629452</td>\n",
              "      <td>0.659755</td>\n",
              "    </tr>\n",
              "    <tr>\n",
              "      <th>11</th>\n",
              "      <td>0.576821</td>\n",
              "      <td>0.476874</td>\n",
              "      <td>0.675704</td>\n",
              "      <td>0.733121</td>\n",
              "      <td>0.502392</td>\n",
              "      <td>0.471558</td>\n",
              "      <td>0.570973</td>\n",
              "      <td>0.683679</td>\n",
              "      <td>0.629452</td>\n",
              "      <td>0.659755</td>\n",
              "      <td>0.844763</td>\n",
              "    </tr>\n",
              "    <tr>\n",
              "      <th>12</th>\n",
              "      <td>0.476874</td>\n",
              "      <td>0.675704</td>\n",
              "      <td>0.733121</td>\n",
              "      <td>0.502392</td>\n",
              "      <td>0.471558</td>\n",
              "      <td>0.570973</td>\n",
              "      <td>0.683679</td>\n",
              "      <td>0.629452</td>\n",
              "      <td>0.659755</td>\n",
              "      <td>0.844763</td>\n",
              "      <td>0.882509</td>\n",
              "    </tr>\n",
              "    <tr>\n",
              "      <th>13</th>\n",
              "      <td>0.675704</td>\n",
              "      <td>0.733121</td>\n",
              "      <td>0.502392</td>\n",
              "      <td>0.471558</td>\n",
              "      <td>0.570973</td>\n",
              "      <td>0.683679</td>\n",
              "      <td>0.629452</td>\n",
              "      <td>0.659755</td>\n",
              "      <td>0.844763</td>\n",
              "      <td>0.882509</td>\n",
              "      <td>0.653907</td>\n",
              "    </tr>\n",
              "    <tr>\n",
              "      <th>14</th>\n",
              "      <td>0.733121</td>\n",
              "      <td>0.502392</td>\n",
              "      <td>0.471558</td>\n",
              "      <td>0.570973</td>\n",
              "      <td>0.683679</td>\n",
              "      <td>0.629452</td>\n",
              "      <td>0.659755</td>\n",
              "      <td>0.844763</td>\n",
              "      <td>0.882509</td>\n",
              "      <td>0.653907</td>\n",
              "      <td>0.612972</td>\n",
              "    </tr>\n",
              "  </tbody>\n",
              "</table>\n",
              "</div>"
            ],
            "text/plain": [
              "    var1(t-10)  var1(t-9)  var1(t-8)  ...  var1(t-2)  var1(t-1)   var1(t)\n",
              "10    0.619351   0.576821   0.476874  ...   0.683679   0.629452  0.659755\n",
              "11    0.576821   0.476874   0.675704  ...   0.629452   0.659755  0.844763\n",
              "12    0.476874   0.675704   0.733121  ...   0.659755   0.844763  0.882509\n",
              "13    0.675704   0.733121   0.502392  ...   0.844763   0.882509  0.653907\n",
              "14    0.733121   0.502392   0.471558  ...   0.882509   0.653907  0.612972\n",
              "\n",
              "[5 rows x 11 columns]"
            ]
          },
          "metadata": {},
          "execution_count": 3
        }
      ]
    },
    {
      "cell_type": "code",
      "metadata": {
        "colab": {
          "base_uri": "https://localhost:8080/"
        },
        "id": "GJ_3UCHf3IaF",
        "outputId": "ce250a66-b583-457a-a1c6-39745ad8ca98"
      },
      "source": [
        "\n",
        "p_train = 0.90 \n",
        "values = reframed.values\n",
        "train = values[:int((len(values))*p_train)] \n",
        "test = values[int((len(values))*p_train):]\n",
        "# split into input and outputs\n",
        "x_train, y_train = train[:, :-1], train[:, -1]\n",
        "x_val, y_val = test[:, :-1], test[:, -1]\n",
        "# reshape input to be 3D [samples, timesteps, features]\n",
        "x_train = x_train.reshape((x_train.shape[0], 1, x_train.shape[1]))\n",
        "x_val = x_val.reshape((x_val.shape[0], 1, x_val.shape[1]))\n",
        "print(x_train.shape, y_train.shape, x_val.shape, y_val.shape)\n"
      ],
      "execution_count": 4,
      "outputs": [
        {
          "output_type": "stream",
          "name": "stdout",
          "text": [
            "(207, 1, 10) (207,) (23, 1, 10) (23,)\n"
          ]
        }
      ]
    },
    {
      "cell_type": "code",
      "metadata": {
        "colab": {
          "base_uri": "https://localhost:8080/"
        },
        "id": "_CGXz01NNfgE",
        "outputId": "0d08c052-37eb-4931-c8e2-0e5818bc2fe6"
      },
      "source": [
        "test"
      ],
      "execution_count": 62,
      "outputs": [
        {
          "output_type": "execute_result",
          "data": {
            "text/plain": [
              "array([[0.40776175, 0.42105255, 0.30037206, 0.30356184, 0.29292923,\n",
              "        0.48856983, 0.521531  , 0.5295055 , 0.32110572, 0.342371  ,\n",
              "        0.4614566 ],\n",
              "       [0.42105255, 0.30037206, 0.30356184, 0.29292923, 0.48856983,\n",
              "        0.521531  , 0.5295055 , 0.32110572, 0.342371  , 0.4614566 ,\n",
              "        0.5396065 ],\n",
              "       [0.30037206, 0.30356184, 0.29292923, 0.48856983, 0.521531  ,\n",
              "        0.5295055 , 0.32110572, 0.342371  , 0.4614566 , 0.5396065 ,\n",
              "        0.5433279 ],\n",
              "       [0.30356184, 0.29292923, 0.48856983, 0.521531  , 0.5295055 ,\n",
              "        0.32110572, 0.342371  , 0.4614566 , 0.5396065 , 0.5433279 ,\n",
              "        0.5257841 ],\n",
              "       [0.29292923, 0.48856983, 0.521531  , 0.5295055 , 0.32110572,\n",
              "        0.342371  , 0.4614566 , 0.5396065 , 0.5433279 , 0.5257841 ,\n",
              "        0.634237  ],\n",
              "       [0.48856983, 0.521531  , 0.5295055 , 0.32110572, 0.342371  ,\n",
              "        0.4614566 , 0.5396065 , 0.5433279 , 0.5257841 , 0.634237  ,\n",
              "        0.43062195],\n",
              "       [0.521531  , 0.5295055 , 0.32110572, 0.342371  , 0.4614566 ,\n",
              "        0.5396065 , 0.5433279 , 0.5257841 , 0.634237  , 0.43062195,\n",
              "        0.35513017],\n",
              "       [0.5295055 , 0.32110572, 0.342371  , 0.4614566 , 0.5396065 ,\n",
              "        0.5433279 , 0.5257841 , 0.634237  , 0.43062195, 0.35513017,\n",
              "        0.38064852],\n",
              "       [0.32110572, 0.342371  , 0.4614566 , 0.5396065 , 0.5433279 ,\n",
              "        0.5257841 , 0.634237  , 0.43062195, 0.35513017, 0.38064852,\n",
              "        0.58851665],\n",
              "       [0.342371  , 0.4614566 , 0.5396065 , 0.5433279 , 0.5257841 ,\n",
              "        0.634237  , 0.43062195, 0.35513017, 0.38064852, 0.58851665,\n",
              "        0.71026045],\n",
              "       [0.4614566 , 0.5396065 , 0.5433279 , 0.5257841 , 0.634237  ,\n",
              "        0.43062195, 0.35513017, 0.38064852, 0.58851665, 0.71026045,\n",
              "        0.6161616 ],\n",
              "       [0.5396065 , 0.5433279 , 0.5257841 , 0.634237  , 0.43062195,\n",
              "        0.35513017, 0.38064852, 0.58851665, 0.71026045, 0.6161616 ,\n",
              "        0.59223807],\n",
              "       [0.5433279 , 0.5257841 , 0.634237  , 0.43062195, 0.35513017,\n",
              "        0.38064852, 0.58851665, 0.71026045, 0.6161616 , 0.59223807,\n",
              "        0.47421575],\n",
              "       [0.5257841 , 0.634237  , 0.43062195, 0.35513017, 0.38064852,\n",
              "        0.58851665, 0.71026045, 0.6161616 , 0.59223807, 0.47421575,\n",
              "        0.56512487],\n",
              "       [0.634237  , 0.43062195, 0.35513017, 0.38064852, 0.58851665,\n",
              "        0.71026045, 0.6161616 , 0.59223807, 0.47421575, 0.56512487,\n",
              "        0.4481658 ],\n",
              "       [0.43062195, 0.35513017, 0.38064852, 0.58851665, 0.71026045,\n",
              "        0.6161616 , 0.59223807, 0.47421575, 0.56512487, 0.4481658 ,\n",
              "        0.5358851 ],\n",
              "       [0.35513017, 0.38064852, 0.58851665, 0.71026045, 0.6161616 ,\n",
              "        0.59223807, 0.47421575, 0.56512487, 0.4481658 , 0.5358851 ,\n",
              "        0.5007974 ],\n",
              "       [0.38064852, 0.58851665, 0.71026045, 0.6161616 , 0.59223807,\n",
              "        0.47421575, 0.56512487, 0.4481658 , 0.5358851 , 0.5007974 ,\n",
              "        0.40297708],\n",
              "       [0.58851665, 0.71026045, 0.6161616 , 0.59223807, 0.47421575,\n",
              "        0.56512487, 0.4481658 , 0.5358851 , 0.5007974 , 0.40297708,\n",
              "        0.4082934 ],\n",
              "       [0.71026045, 0.6161616 , 0.59223807, 0.47421575, 0.56512487,\n",
              "        0.4481658 , 0.5358851 , 0.5007974 , 0.40297708, 0.4082934 ,\n",
              "        0.20042522],\n",
              "       [0.6161616 , 0.59223807, 0.47421575, 0.56512487, 0.4481658 ,\n",
              "        0.5358851 , 0.5007974 , 0.40297708, 0.4082934 , 0.20042522,\n",
              "        0.35566178],\n",
              "       [0.59223807, 0.47421575, 0.56512487, 0.4481658 , 0.5358851 ,\n",
              "        0.5007974 , 0.40297708, 0.4082934 , 0.20042522, 0.35566178,\n",
              "        0.30887818],\n",
              "       [0.47421575, 0.56512487, 0.4481658 , 0.5358851 , 0.5007974 ,\n",
              "        0.40297708, 0.4082934 , 0.20042522, 0.35566178, 0.30887818,\n",
              "        0.47208923]], dtype=float32)"
            ]
          },
          "metadata": {},
          "execution_count": 62
        }
      ]
    },
    {
      "cell_type": "code",
      "metadata": {
        "colab": {
          "base_uri": "https://localhost:8080/"
        },
        "id": "LhP2LtGOM5GW",
        "outputId": "5a4f7b99-fcc1-4b87-8fa2-65c66ce58437"
      },
      "source": [
        "y_val"
      ],
      "execution_count": 23,
      "outputs": [
        {
          "output_type": "execute_result",
          "data": {
            "text/plain": [
              "array([0.70228595, 0.5943646 , 0.39074954, 0.39819238, 0.48378512,\n",
              "       0.40457195, 0.3902179 , 0.3540669 , 0.6512493 , 0.5470494 ,\n",
              "       0.74534816, 0.73684204, 0.36257303, 0.1653375 , 0.29399246,\n",
              "       0.40776175, 0.42105255, 0.30037206, 0.30356184, 0.29292923,\n",
              "       0.48856983, 0.521531  , 0.5295055 , 0.32110572, 0.342371  ,\n",
              "       0.4614566 , 0.5396065 , 0.5433279 , 0.5257841 , 0.634237  ,\n",
              "       0.43062195, 0.35513017, 0.38064852, 0.58851665, 0.71026045,\n",
              "       0.6161616 , 0.59223807, 0.47421575, 0.56512487, 0.4481658 ,\n",
              "       0.5358851 , 0.5007974 , 0.40297708, 0.4082934 , 0.20042522,\n",
              "       0.35566178, 0.30887818, 0.47208923], dtype=float32)"
            ]
          },
          "metadata": {},
          "execution_count": 23
        }
      ]
    },
    {
      "cell_type": "code",
      "metadata": {
        "colab": {
          "base_uri": "https://localhost:8080/"
        },
        "id": "TE43k3F-NSp4",
        "outputId": "b95015f5-8e9a-4128-d0e8-511e87ab9fd7"
      },
      "source": [
        "x_val"
      ],
      "execution_count": 24,
      "outputs": [
        {
          "output_type": "execute_result",
          "data": {
            "text/plain": [
              "array([[[0.5491759 , 0.76714504, 0.69271654]],\n",
              "\n",
              "       [[0.76714504, 0.69271654, 0.70228595]],\n",
              "\n",
              "       [[0.69271654, 0.70228595, 0.5943646 ]],\n",
              "\n",
              "       [[0.70228595, 0.5943646 , 0.39074954]],\n",
              "\n",
              "       [[0.5943646 , 0.39074954, 0.39819238]],\n",
              "\n",
              "       [[0.39074954, 0.39819238, 0.48378512]],\n",
              "\n",
              "       [[0.39819238, 0.48378512, 0.40457195]],\n",
              "\n",
              "       [[0.48378512, 0.40457195, 0.3902179 ]],\n",
              "\n",
              "       [[0.40457195, 0.3902179 , 0.3540669 ]],\n",
              "\n",
              "       [[0.3902179 , 0.3540669 , 0.6512493 ]],\n",
              "\n",
              "       [[0.3540669 , 0.6512493 , 0.5470494 ]],\n",
              "\n",
              "       [[0.6512493 , 0.5470494 , 0.74534816]],\n",
              "\n",
              "       [[0.5470494 , 0.74534816, 0.73684204]],\n",
              "\n",
              "       [[0.74534816, 0.73684204, 0.36257303]],\n",
              "\n",
              "       [[0.73684204, 0.36257303, 0.1653375 ]],\n",
              "\n",
              "       [[0.36257303, 0.1653375 , 0.29399246]],\n",
              "\n",
              "       [[0.1653375 , 0.29399246, 0.40776175]],\n",
              "\n",
              "       [[0.29399246, 0.40776175, 0.42105255]],\n",
              "\n",
              "       [[0.40776175, 0.42105255, 0.30037206]],\n",
              "\n",
              "       [[0.42105255, 0.30037206, 0.30356184]],\n",
              "\n",
              "       [[0.30037206, 0.30356184, 0.29292923]],\n",
              "\n",
              "       [[0.30356184, 0.29292923, 0.48856983]],\n",
              "\n",
              "       [[0.29292923, 0.48856983, 0.521531  ]],\n",
              "\n",
              "       [[0.48856983, 0.521531  , 0.5295055 ]],\n",
              "\n",
              "       [[0.521531  , 0.5295055 , 0.32110572]],\n",
              "\n",
              "       [[0.5295055 , 0.32110572, 0.342371  ]],\n",
              "\n",
              "       [[0.32110572, 0.342371  , 0.4614566 ]],\n",
              "\n",
              "       [[0.342371  , 0.4614566 , 0.5396065 ]],\n",
              "\n",
              "       [[0.4614566 , 0.5396065 , 0.5433279 ]],\n",
              "\n",
              "       [[0.5396065 , 0.5433279 , 0.5257841 ]],\n",
              "\n",
              "       [[0.5433279 , 0.5257841 , 0.634237  ]],\n",
              "\n",
              "       [[0.5257841 , 0.634237  , 0.43062195]],\n",
              "\n",
              "       [[0.634237  , 0.43062195, 0.35513017]],\n",
              "\n",
              "       [[0.43062195, 0.35513017, 0.38064852]],\n",
              "\n",
              "       [[0.35513017, 0.38064852, 0.58851665]],\n",
              "\n",
              "       [[0.38064852, 0.58851665, 0.71026045]],\n",
              "\n",
              "       [[0.58851665, 0.71026045, 0.6161616 ]],\n",
              "\n",
              "       [[0.71026045, 0.6161616 , 0.59223807]],\n",
              "\n",
              "       [[0.6161616 , 0.59223807, 0.47421575]],\n",
              "\n",
              "       [[0.59223807, 0.47421575, 0.56512487]],\n",
              "\n",
              "       [[0.47421575, 0.56512487, 0.4481658 ]],\n",
              "\n",
              "       [[0.56512487, 0.4481658 , 0.5358851 ]],\n",
              "\n",
              "       [[0.4481658 , 0.5358851 , 0.5007974 ]],\n",
              "\n",
              "       [[0.5358851 , 0.5007974 , 0.40297708]],\n",
              "\n",
              "       [[0.5007974 , 0.40297708, 0.4082934 ]],\n",
              "\n",
              "       [[0.40297708, 0.4082934 , 0.20042522]],\n",
              "\n",
              "       [[0.4082934 , 0.20042522, 0.35566178]],\n",
              "\n",
              "       [[0.20042522, 0.35566178, 0.30887818]]], dtype=float32)"
            ]
          },
          "metadata": {},
          "execution_count": 24
        }
      ]
    },
    {
      "cell_type": "code",
      "metadata": {
        "id": "NhKn4TbV3PyT"
      },
      "source": [
        "#Defino la función neuronal\n",
        "def define_model():\n",
        "    model = Sequential() \n",
        "    model.add(Dense(PASOS, input_shape=(1,PASOS),activation='tanh'))\n",
        "    model.add(Flatten())\n",
        "    model.add(Dense(1, activation='tanh'))\n",
        "    model.compile(loss='mean_absolute_error',optimizer='Adam',metrics=[\"mse\"])\n",
        "    model.summary()\n",
        "    \n",
        "   \n",
        "    return model"
      ],
      "execution_count": 5,
      "outputs": []
    },
    {
      "cell_type": "code",
      "metadata": {
        "colab": {
          "base_uri": "https://localhost:8080/"
        },
        "id": "ReGWzQvg315m",
        "outputId": "f712719f-9fad-4228-f0bd-91a31d5dc921"
      },
      "source": [
        "model = define_model()\n",
        "# Hago una corrida sin metodo de regularizacion.  \n",
        "history = model.fit(epochs=100, batch_size=32, x=x_train, y=y_train, validation_data=(x_val, y_val) )\n",
        "#                     callbacks=[early,])"
      ],
      "execution_count": 6,
      "outputs": [
        {
          "output_type": "stream",
          "name": "stdout",
          "text": [
            "Model: \"sequential\"\n",
            "_________________________________________________________________\n",
            " Layer (type)                Output Shape              Param #   \n",
            "=================================================================\n",
            " dense (Dense)               (None, 1, 10)             110       \n",
            "                                                                 \n",
            " flatten (Flatten)           (None, 10)                0         \n",
            "                                                                 \n",
            " dense_1 (Dense)             (None, 1)                 11        \n",
            "                                                                 \n",
            "=================================================================\n",
            "Total params: 121\n",
            "Trainable params: 121\n",
            "Non-trainable params: 0\n",
            "_________________________________________________________________\n",
            "Epoch 1/100\n",
            "7/7 [==============================] - 1s 32ms/step - loss: 0.3888 - mse: 0.2328 - val_loss: 0.2162 - val_mse: 0.0654\n",
            "Epoch 2/100\n",
            "7/7 [==============================] - 0s 4ms/step - loss: 0.2978 - mse: 0.1578 - val_loss: 0.1230 - val_mse: 0.0236\n",
            "Epoch 3/100\n",
            "7/7 [==============================] - 0s 4ms/step - loss: 0.2472 - mse: 0.1181 - val_loss: 0.1073 - val_mse: 0.0148\n",
            "Epoch 4/100\n",
            "7/7 [==============================] - 0s 5ms/step - loss: 0.2285 - mse: 0.1021 - val_loss: 0.1157 - val_mse: 0.0186\n",
            "Epoch 5/100\n",
            "7/7 [==============================] - 0s 4ms/step - loss: 0.2260 - mse: 0.0984 - val_loss: 0.1225 - val_mse: 0.0211\n",
            "Epoch 6/100\n",
            "7/7 [==============================] - 0s 4ms/step - loss: 0.2243 - mse: 0.0968 - val_loss: 0.1191 - val_mse: 0.0199\n",
            "Epoch 7/100\n",
            "7/7 [==============================] - 0s 4ms/step - loss: 0.2206 - mse: 0.0945 - val_loss: 0.1121 - val_mse: 0.0177\n",
            "Epoch 8/100\n",
            "7/7 [==============================] - 0s 5ms/step - loss: 0.2164 - mse: 0.0922 - val_loss: 0.1055 - val_mse: 0.0151\n",
            "Epoch 9/100\n",
            "7/7 [==============================] - 0s 5ms/step - loss: 0.2134 - mse: 0.0908 - val_loss: 0.1018 - val_mse: 0.0137\n",
            "Epoch 10/100\n",
            "7/7 [==============================] - 0s 4ms/step - loss: 0.2105 - mse: 0.0887 - val_loss: 0.1003 - val_mse: 0.0132\n",
            "Epoch 11/100\n",
            "7/7 [==============================] - 0s 4ms/step - loss: 0.2073 - mse: 0.0863 - val_loss: 0.0991 - val_mse: 0.0132\n",
            "Epoch 12/100\n",
            "7/7 [==============================] - 0s 5ms/step - loss: 0.2037 - mse: 0.0837 - val_loss: 0.0982 - val_mse: 0.0127\n",
            "Epoch 13/100\n",
            "7/7 [==============================] - 0s 4ms/step - loss: 0.2004 - mse: 0.0813 - val_loss: 0.0975 - val_mse: 0.0126\n",
            "Epoch 14/100\n",
            "7/7 [==============================] - 0s 5ms/step - loss: 0.1973 - mse: 0.0785 - val_loss: 0.0966 - val_mse: 0.0126\n",
            "Epoch 15/100\n",
            "7/7 [==============================] - 0s 5ms/step - loss: 0.1942 - mse: 0.0766 - val_loss: 0.0965 - val_mse: 0.0118\n",
            "Epoch 16/100\n",
            "7/7 [==============================] - 0s 4ms/step - loss: 0.1914 - mse: 0.0743 - val_loss: 0.0955 - val_mse: 0.0118\n",
            "Epoch 17/100\n",
            "7/7 [==============================] - 0s 5ms/step - loss: 0.1874 - mse: 0.0720 - val_loss: 0.0954 - val_mse: 0.0111\n",
            "Epoch 18/100\n",
            "7/7 [==============================] - 0s 4ms/step - loss: 0.1846 - mse: 0.0705 - val_loss: 0.0951 - val_mse: 0.0107\n",
            "Epoch 19/100\n",
            "7/7 [==============================] - 0s 5ms/step - loss: 0.1808 - mse: 0.0678 - val_loss: 0.0939 - val_mse: 0.0107\n",
            "Epoch 20/100\n",
            "7/7 [==============================] - 0s 5ms/step - loss: 0.1773 - mse: 0.0654 - val_loss: 0.0930 - val_mse: 0.0105\n",
            "Epoch 21/100\n",
            "7/7 [==============================] - 0s 6ms/step - loss: 0.1741 - mse: 0.0635 - val_loss: 0.0923 - val_mse: 0.0103\n",
            "Epoch 22/100\n",
            "7/7 [==============================] - 0s 5ms/step - loss: 0.1706 - mse: 0.0611 - val_loss: 0.0915 - val_mse: 0.0103\n",
            "Epoch 23/100\n",
            "7/7 [==============================] - 0s 4ms/step - loss: 0.1675 - mse: 0.0591 - val_loss: 0.0910 - val_mse: 0.0101\n",
            "Epoch 24/100\n",
            "7/7 [==============================] - 0s 5ms/step - loss: 0.1644 - mse: 0.0574 - val_loss: 0.0906 - val_mse: 0.0101\n",
            "Epoch 25/100\n",
            "7/7 [==============================] - 0s 5ms/step - loss: 0.1614 - mse: 0.0554 - val_loss: 0.0902 - val_mse: 0.0101\n",
            "Epoch 26/100\n",
            "7/7 [==============================] - 0s 4ms/step - loss: 0.1592 - mse: 0.0542 - val_loss: 0.0890 - val_mse: 0.0098\n",
            "Epoch 27/100\n",
            "7/7 [==============================] - 0s 4ms/step - loss: 0.1559 - mse: 0.0522 - val_loss: 0.0887 - val_mse: 0.0098\n",
            "Epoch 28/100\n",
            "7/7 [==============================] - 0s 4ms/step - loss: 0.1531 - mse: 0.0508 - val_loss: 0.0876 - val_mse: 0.0097\n",
            "Epoch 29/100\n",
            "7/7 [==============================] - 0s 4ms/step - loss: 0.1506 - mse: 0.0495 - val_loss: 0.0866 - val_mse: 0.0098\n",
            "Epoch 30/100\n",
            "7/7 [==============================] - 0s 4ms/step - loss: 0.1483 - mse: 0.0482 - val_loss: 0.0862 - val_mse: 0.0097\n",
            "Epoch 31/100\n",
            "7/7 [==============================] - 0s 4ms/step - loss: 0.1461 - mse: 0.0467 - val_loss: 0.0862 - val_mse: 0.0097\n",
            "Epoch 32/100\n",
            "7/7 [==============================] - 0s 4ms/step - loss: 0.1439 - mse: 0.0457 - val_loss: 0.0851 - val_mse: 0.0097\n",
            "Epoch 33/100\n",
            "7/7 [==============================] - 0s 5ms/step - loss: 0.1418 - mse: 0.0448 - val_loss: 0.0841 - val_mse: 0.0099\n",
            "Epoch 34/100\n",
            "7/7 [==============================] - 0s 5ms/step - loss: 0.1396 - mse: 0.0436 - val_loss: 0.0842 - val_mse: 0.0098\n",
            "Epoch 35/100\n",
            "7/7 [==============================] - 0s 4ms/step - loss: 0.1388 - mse: 0.0425 - val_loss: 0.0845 - val_mse: 0.0099\n",
            "Epoch 36/100\n",
            "7/7 [==============================] - 0s 5ms/step - loss: 0.1363 - mse: 0.0413 - val_loss: 0.0833 - val_mse: 0.0099\n",
            "Epoch 37/100\n",
            "7/7 [==============================] - 0s 4ms/step - loss: 0.1347 - mse: 0.0412 - val_loss: 0.0832 - val_mse: 0.0100\n",
            "Epoch 38/100\n",
            "7/7 [==============================] - 0s 4ms/step - loss: 0.1331 - mse: 0.0403 - val_loss: 0.0826 - val_mse: 0.0100\n",
            "Epoch 39/100\n",
            "7/7 [==============================] - 0s 4ms/step - loss: 0.1319 - mse: 0.0394 - val_loss: 0.0825 - val_mse: 0.0100\n",
            "Epoch 40/100\n",
            "7/7 [==============================] - 0s 4ms/step - loss: 0.1305 - mse: 0.0392 - val_loss: 0.0829 - val_mse: 0.0104\n",
            "Epoch 41/100\n",
            "7/7 [==============================] - 0s 4ms/step - loss: 0.1292 - mse: 0.0387 - val_loss: 0.0827 - val_mse: 0.0104\n",
            "Epoch 42/100\n",
            "7/7 [==============================] - 0s 4ms/step - loss: 0.1282 - mse: 0.0380 - val_loss: 0.0824 - val_mse: 0.0103\n",
            "Epoch 43/100\n",
            "7/7 [==============================] - 0s 4ms/step - loss: 0.1276 - mse: 0.0376 - val_loss: 0.0825 - val_mse: 0.0106\n",
            "Epoch 44/100\n",
            "7/7 [==============================] - 0s 5ms/step - loss: 0.1263 - mse: 0.0371 - val_loss: 0.0821 - val_mse: 0.0105\n",
            "Epoch 45/100\n",
            "7/7 [==============================] - 0s 5ms/step - loss: 0.1258 - mse: 0.0369 - val_loss: 0.0823 - val_mse: 0.0107\n",
            "Epoch 46/100\n",
            "7/7 [==============================] - 0s 4ms/step - loss: 0.1250 - mse: 0.0366 - val_loss: 0.0817 - val_mse: 0.0106\n",
            "Epoch 47/100\n",
            "7/7 [==============================] - 0s 5ms/step - loss: 0.1240 - mse: 0.0362 - val_loss: 0.0825 - val_mse: 0.0109\n",
            "Epoch 48/100\n",
            "7/7 [==============================] - 0s 5ms/step - loss: 0.1238 - mse: 0.0362 - val_loss: 0.0822 - val_mse: 0.0109\n",
            "Epoch 49/100\n",
            "7/7 [==============================] - 0s 5ms/step - loss: 0.1231 - mse: 0.0358 - val_loss: 0.0817 - val_mse: 0.0108\n",
            "Epoch 50/100\n",
            "7/7 [==============================] - 0s 7ms/step - loss: 0.1230 - mse: 0.0356 - val_loss: 0.0822 - val_mse: 0.0110\n",
            "Epoch 51/100\n",
            "7/7 [==============================] - 0s 5ms/step - loss: 0.1223 - mse: 0.0354 - val_loss: 0.0815 - val_mse: 0.0109\n",
            "Epoch 52/100\n",
            "7/7 [==============================] - 0s 5ms/step - loss: 0.1219 - mse: 0.0351 - val_loss: 0.0814 - val_mse: 0.0108\n",
            "Epoch 53/100\n",
            "7/7 [==============================] - 0s 6ms/step - loss: 0.1214 - mse: 0.0350 - val_loss: 0.0811 - val_mse: 0.0109\n",
            "Epoch 54/100\n",
            "7/7 [==============================] - 0s 8ms/step - loss: 0.1209 - mse: 0.0349 - val_loss: 0.0816 - val_mse: 0.0111\n",
            "Epoch 55/100\n",
            "7/7 [==============================] - 0s 4ms/step - loss: 0.1208 - mse: 0.0349 - val_loss: 0.0809 - val_mse: 0.0110\n",
            "Epoch 56/100\n",
            "7/7 [==============================] - 0s 5ms/step - loss: 0.1203 - mse: 0.0348 - val_loss: 0.0809 - val_mse: 0.0110\n",
            "Epoch 57/100\n",
            "7/7 [==============================] - 0s 8ms/step - loss: 0.1206 - mse: 0.0346 - val_loss: 0.0814 - val_mse: 0.0108\n",
            "Epoch 58/100\n",
            "7/7 [==============================] - 0s 5ms/step - loss: 0.1200 - mse: 0.0347 - val_loss: 0.0811 - val_mse: 0.0113\n",
            "Epoch 59/100\n",
            "7/7 [==============================] - 0s 4ms/step - loss: 0.1193 - mse: 0.0345 - val_loss: 0.0811 - val_mse: 0.0109\n",
            "Epoch 60/100\n",
            "7/7 [==============================] - 0s 7ms/step - loss: 0.1190 - mse: 0.0342 - val_loss: 0.0811 - val_mse: 0.0110\n",
            "Epoch 61/100\n",
            "7/7 [==============================] - 0s 4ms/step - loss: 0.1186 - mse: 0.0341 - val_loss: 0.0807 - val_mse: 0.0111\n",
            "Epoch 62/100\n",
            "7/7 [==============================] - 0s 5ms/step - loss: 0.1187 - mse: 0.0341 - val_loss: 0.0808 - val_mse: 0.0110\n",
            "Epoch 63/100\n",
            "7/7 [==============================] - 0s 4ms/step - loss: 0.1180 - mse: 0.0339 - val_loss: 0.0803 - val_mse: 0.0112\n",
            "Epoch 64/100\n",
            "7/7 [==============================] - 0s 5ms/step - loss: 0.1182 - mse: 0.0342 - val_loss: 0.0804 - val_mse: 0.0111\n",
            "Epoch 65/100\n",
            "7/7 [==============================] - 0s 4ms/step - loss: 0.1179 - mse: 0.0339 - val_loss: 0.0804 - val_mse: 0.0110\n",
            "Epoch 66/100\n",
            "7/7 [==============================] - 0s 4ms/step - loss: 0.1177 - mse: 0.0341 - val_loss: 0.0812 - val_mse: 0.0115\n",
            "Epoch 67/100\n",
            "7/7 [==============================] - 0s 5ms/step - loss: 0.1172 - mse: 0.0338 - val_loss: 0.0804 - val_mse: 0.0110\n",
            "Epoch 68/100\n",
            "7/7 [==============================] - 0s 4ms/step - loss: 0.1170 - mse: 0.0334 - val_loss: 0.0807 - val_mse: 0.0109\n",
            "Epoch 69/100\n",
            "7/7 [==============================] - 0s 5ms/step - loss: 0.1167 - mse: 0.0334 - val_loss: 0.0805 - val_mse: 0.0111\n",
            "Epoch 70/100\n",
            "7/7 [==============================] - 0s 8ms/step - loss: 0.1165 - mse: 0.0335 - val_loss: 0.0814 - val_mse: 0.0115\n",
            "Epoch 71/100\n",
            "7/7 [==============================] - 0s 5ms/step - loss: 0.1159 - mse: 0.0335 - val_loss: 0.0805 - val_mse: 0.0110\n",
            "Epoch 72/100\n",
            "7/7 [==============================] - 0s 5ms/step - loss: 0.1167 - mse: 0.0331 - val_loss: 0.0817 - val_mse: 0.0109\n",
            "Epoch 73/100\n",
            "7/7 [==============================] - 0s 5ms/step - loss: 0.1171 - mse: 0.0334 - val_loss: 0.0817 - val_mse: 0.0115\n",
            "Epoch 74/100\n",
            "7/7 [==============================] - 0s 5ms/step - loss: 0.1160 - mse: 0.0336 - val_loss: 0.0814 - val_mse: 0.0114\n",
            "Epoch 75/100\n",
            "7/7 [==============================] - 0s 4ms/step - loss: 0.1154 - mse: 0.0331 - val_loss: 0.0806 - val_mse: 0.0110\n",
            "Epoch 76/100\n",
            "7/7 [==============================] - 0s 4ms/step - loss: 0.1154 - mse: 0.0331 - val_loss: 0.0812 - val_mse: 0.0113\n",
            "Epoch 77/100\n",
            "7/7 [==============================] - 0s 6ms/step - loss: 0.1148 - mse: 0.0330 - val_loss: 0.0814 - val_mse: 0.0113\n",
            "Epoch 78/100\n",
            "7/7 [==============================] - 0s 5ms/step - loss: 0.1155 - mse: 0.0334 - val_loss: 0.0820 - val_mse: 0.0116\n",
            "Epoch 79/100\n",
            "7/7 [==============================] - 0s 4ms/step - loss: 0.1144 - mse: 0.0328 - val_loss: 0.0816 - val_mse: 0.0112\n",
            "Epoch 80/100\n",
            "7/7 [==============================] - 0s 4ms/step - loss: 0.1143 - mse: 0.0325 - val_loss: 0.0816 - val_mse: 0.0113\n",
            "Epoch 81/100\n",
            "7/7 [==============================] - 0s 6ms/step - loss: 0.1137 - mse: 0.0328 - val_loss: 0.0827 - val_mse: 0.0118\n",
            "Epoch 82/100\n",
            "7/7 [==============================] - 0s 4ms/step - loss: 0.1142 - mse: 0.0328 - val_loss: 0.0819 - val_mse: 0.0113\n",
            "Epoch 83/100\n",
            "7/7 [==============================] - 0s 5ms/step - loss: 0.1140 - mse: 0.0325 - val_loss: 0.0820 - val_mse: 0.0112\n",
            "Epoch 84/100\n",
            "7/7 [==============================] - 0s 4ms/step - loss: 0.1135 - mse: 0.0325 - val_loss: 0.0819 - val_mse: 0.0113\n",
            "Epoch 85/100\n",
            "7/7 [==============================] - 0s 4ms/step - loss: 0.1131 - mse: 0.0323 - val_loss: 0.0820 - val_mse: 0.0112\n",
            "Epoch 86/100\n",
            "7/7 [==============================] - 0s 5ms/step - loss: 0.1127 - mse: 0.0325 - val_loss: 0.0825 - val_mse: 0.0116\n",
            "Epoch 87/100\n",
            "7/7 [==============================] - 0s 4ms/step - loss: 0.1132 - mse: 0.0327 - val_loss: 0.0820 - val_mse: 0.0114\n",
            "Epoch 88/100\n",
            "7/7 [==============================] - 0s 5ms/step - loss: 0.1128 - mse: 0.0321 - val_loss: 0.0822 - val_mse: 0.0111\n",
            "Epoch 89/100\n",
            "7/7 [==============================] - 0s 4ms/step - loss: 0.1130 - mse: 0.0324 - val_loss: 0.0833 - val_mse: 0.0119\n",
            "Epoch 90/100\n",
            "7/7 [==============================] - 0s 4ms/step - loss: 0.1123 - mse: 0.0323 - val_loss: 0.0825 - val_mse: 0.0114\n",
            "Epoch 91/100\n",
            "7/7 [==============================] - 0s 5ms/step - loss: 0.1118 - mse: 0.0320 - val_loss: 0.0827 - val_mse: 0.0113\n",
            "Epoch 92/100\n",
            "7/7 [==============================] - 0s 5ms/step - loss: 0.1118 - mse: 0.0320 - val_loss: 0.0829 - val_mse: 0.0115\n",
            "Epoch 93/100\n",
            "7/7 [==============================] - 0s 5ms/step - loss: 0.1116 - mse: 0.0320 - val_loss: 0.0830 - val_mse: 0.0116\n",
            "Epoch 94/100\n",
            "7/7 [==============================] - 0s 5ms/step - loss: 0.1118 - mse: 0.0322 - val_loss: 0.0832 - val_mse: 0.0117\n",
            "Epoch 95/100\n",
            "7/7 [==============================] - 0s 4ms/step - loss: 0.1114 - mse: 0.0318 - val_loss: 0.0831 - val_mse: 0.0113\n",
            "Epoch 96/100\n",
            "7/7 [==============================] - 0s 5ms/step - loss: 0.1115 - mse: 0.0317 - val_loss: 0.0830 - val_mse: 0.0114\n",
            "Epoch 97/100\n",
            "7/7 [==============================] - 0s 4ms/step - loss: 0.1110 - mse: 0.0319 - val_loss: 0.0833 - val_mse: 0.0116\n",
            "Epoch 98/100\n",
            "7/7 [==============================] - 0s 5ms/step - loss: 0.1109 - mse: 0.0318 - val_loss: 0.0831 - val_mse: 0.0113\n",
            "Epoch 99/100\n",
            "7/7 [==============================] - 0s 5ms/step - loss: 0.1109 - mse: 0.0318 - val_loss: 0.0832 - val_mse: 0.0115\n",
            "Epoch 100/100\n",
            "7/7 [==============================] - 0s 6ms/step - loss: 0.1109 - mse: 0.0317 - val_loss: 0.0831 - val_mse: 0.0113\n"
          ]
        }
      ]
    },
    {
      "cell_type": "code",
      "metadata": {
        "colab": {
          "base_uri": "https://localhost:8080/",
          "height": 281
        },
        "id": "lePvU6kA4RBU",
        "outputId": "f54fab45-9a1e-42c7-a992-c9db26b15b73"
      },
      "source": [
        "\n",
        "results=model.predict(x_val)\n",
        "plt.scatter(range(len(y_val)),y_val,c='g')\n",
        "plt.scatter(range(len(results)),results,c='r')\n",
        "plt.title('validate')\n",
        "plt.show()\n"
      ],
      "execution_count": 7,
      "outputs": [
        {
          "output_type": "display_data",
          "data": {
            "image/png": "[encoded data removed]",
            "text/plain": [
              "<Figure size 432x288 with 1 Axes>"
            ]
          },
          "metadata": {
            "needs_background": "light"
          }
        }
      ]
    },
    {
      "cell_type": "code",
      "metadata": {
        "colab": {
          "base_uri": "https://localhost:8080/"
        },
        "id": "YliEhSO_MVyT",
        "outputId": "e3b2f043-00d9-4531-b08c-21a07922854b"
      },
      "source": [
        "results"
      ],
      "execution_count": 37,
      "outputs": [
        {
          "output_type": "execute_result",
          "data": {
            "text/plain": [
              "array([[0.35491425],\n",
              "       [0.46752796],\n",
              "       [0.5395644 ],\n",
              "       [0.5273041 ],\n",
              "       [0.48652583],\n",
              "       [0.55703384],\n",
              "       [0.4577911 ],\n",
              "       [0.38842124],\n",
              "       [0.37472427],\n",
              "       [0.5465293 ],\n",
              "       [0.62532073],\n",
              "       [0.5714417 ],\n",
              "       [0.5226484 ],\n",
              "       [0.44898027],\n",
              "       [0.5341158 ],\n",
              "       [0.46404967],\n",
              "       [0.50504214],\n",
              "       [0.47676748],\n",
              "       [0.43472573],\n",
              "       [0.43228123],\n",
              "       [0.2745427 ],\n",
              "       [0.39962712],\n",
              "       [0.3749001 ]], dtype=float32)"
            ]
          },
          "metadata": {},
          "execution_count": 37
        }
      ]
    },
    {
      "cell_type": "code",
      "metadata": {
        "colab": {
          "base_uri": "https://localhost:8080/"
        },
        "id": "QR6t7uGLMgsR",
        "outputId": "7d65fd21-b9d8-45b9-c213-e26889b721b4"
      },
      "source": [
        "y_val"
      ],
      "execution_count": 13,
      "outputs": [
        {
          "output_type": "execute_result",
          "data": {
            "text/plain": [
              "array([0.342371  , 0.4614566 , 0.5396065 , 0.5433279 , 0.5257841 ,\n",
              "       0.634237  , 0.43062195, 0.35513017, 0.38064852, 0.58851665,\n",
              "       0.71026045, 0.6161616 , 0.59223807, 0.47421575, 0.56512487,\n",
              "       0.4481658 , 0.5358851 , 0.5007974 , 0.40297708, 0.4082934 ,\n",
              "       0.20042522, 0.35566178, 0.30887818, 0.47208923], dtype=float32)"
            ]
          },
          "metadata": {},
          "execution_count": 13
        }
      ]
    },
    {
      "cell_type": "code",
      "metadata": {
        "colab": {
          "base_uri": "https://localhost:8080/"
        },
        "id": "RvddO5gSFues",
        "outputId": "03e957b5-2e2b-4553-dbba-086430535fb3"
      },
      "source": [
        "adimen = [x for x in results]    \n",
        "inverted = scaler.inverse_transform(adimen)\n",
        "inverted"
      ],
      "execution_count": 8,
      "outputs": [
        {
          "output_type": "execute_result",
          "data": {
            "text/plain": [
              "array([[ 6.15651931],\n",
              "       [ 7.39936364],\n",
              "       [ 8.6283958 ],\n",
              "       [ 8.74011188],\n",
              "       [ 8.35690498],\n",
              "       [ 9.40944865],\n",
              "       [ 8.07121798],\n",
              "       [ 6.76184886],\n",
              "       [ 6.34208586],\n",
              "       [ 8.66483585],\n",
              "       [10.45995853],\n",
              "       [10.01312448],\n",
              "       [ 9.20953849],\n",
              "       [ 8.02511182],\n",
              "       [ 8.80235214],\n",
              "       [ 7.84346373],\n",
              "       [ 8.26683015],\n",
              "       [ 8.07823982],\n",
              "       [ 7.55601987],\n",
              "       [ 7.28686219],\n",
              "       [ 5.4543532 ],\n",
              "       [ 6.31379891],\n",
              "       [ 6.25177503]])"
            ]
          },
          "metadata": {},
          "execution_count": 8
        }
      ]
    },
    {
      "cell_type": "code",
      "metadata": {
        "id": "yaWYcBVQ6fDe"
      },
      "source": [
        "ultimosDias = df['16/6/2020':'30/6/2020']\n"
      ],
      "execution_count": 8,
      "outputs": []
    },
    {
      "cell_type": "code",
      "metadata": {
        "colab": {
          "base_uri": "https://localhost:8080/",
          "height": 206
        },
        "id": "ig8SIUrD6sq9",
        "outputId": "290e392c-8f9e-444e-a62c-38909e3fb7d8"
      },
      "source": [
        "\n",
        "values = ultimosDias.values\n",
        "values = values.astype('float32')\n",
        "# normalize features\n",
        "values=values.reshape(-1, 1) # esto lo hacemos porque tenemos 1 sola dimension\n",
        "scaled = scaler.fit_transform(values)\n",
        "reframed = series_to_supervised(scaled, PASOS, 1)\n",
        "reframed.drop(reframed.columns[[10]], axis=1, inplace=True)\n",
        "reframed.head(122)"
      ],
      "execution_count": 9,
      "outputs": [
        {
          "output_type": "execute_result",
          "data": {
            "text/html": [
              "<div>\n",
              "<style scoped>\n",
              "    .dataframe tbody tr th:only-of-type {\n",
              "        vertical-align: middle;\n",
              "    }\n",
              "\n",
              "    .dataframe tbody tr th {\n",
              "        vertical-align: top;\n",
              "    }\n",
              "\n",
              "    .dataframe thead th {\n",
              "        text-align: right;\n",
              "    }\n",
              "</style>\n",
              "<table border=\"1\" class=\"dataframe\">\n",
              "  <thead>\n",
              "    <tr style=\"text-align: right;\">\n",
              "      <th></th>\n",
              "      <th>var1(t-10)</th>\n",
              "      <th>var1(t-9)</th>\n",
              "      <th>var1(t-8)</th>\n",
              "      <th>var1(t-7)</th>\n",
              "      <th>var1(t-6)</th>\n",
              "      <th>var1(t-5)</th>\n",
              "      <th>var1(t-4)</th>\n",
              "      <th>var1(t-3)</th>\n",
              "      <th>var1(t-2)</th>\n",
              "      <th>var1(t-1)</th>\n",
              "    </tr>\n",
              "  </thead>\n",
              "  <tbody>\n",
              "    <tr>\n",
              "      <th>10</th>\n",
              "      <td>0.522419</td>\n",
              "      <td>1.000000</td>\n",
              "      <td>0.630866</td>\n",
              "      <td>0.537018</td>\n",
              "      <td>0.074035</td>\n",
              "      <td>0.430657</td>\n",
              "      <td>-0.028154</td>\n",
              "      <td>0.315954</td>\n",
              "      <td>0.178311</td>\n",
              "      <td>-0.205422</td>\n",
              "    </tr>\n",
              "    <tr>\n",
              "      <th>11</th>\n",
              "      <td>1.000000</td>\n",
              "      <td>0.630866</td>\n",
              "      <td>0.537018</td>\n",
              "      <td>0.074035</td>\n",
              "      <td>0.430657</td>\n",
              "      <td>-0.028154</td>\n",
              "      <td>0.315954</td>\n",
              "      <td>0.178311</td>\n",
              "      <td>-0.205422</td>\n",
              "      <td>-0.184567</td>\n",
              "    </tr>\n",
              "    <tr>\n",
              "      <th>12</th>\n",
              "      <td>0.630866</td>\n",
              "      <td>0.537018</td>\n",
              "      <td>0.074035</td>\n",
              "      <td>0.430657</td>\n",
              "      <td>-0.028154</td>\n",
              "      <td>0.315954</td>\n",
              "      <td>0.178311</td>\n",
              "      <td>-0.205422</td>\n",
              "      <td>-0.184567</td>\n",
              "      <td>-1.000000</td>\n",
              "    </tr>\n",
              "    <tr>\n",
              "      <th>13</th>\n",
              "      <td>0.537018</td>\n",
              "      <td>0.074035</td>\n",
              "      <td>0.430657</td>\n",
              "      <td>-0.028154</td>\n",
              "      <td>0.315954</td>\n",
              "      <td>0.178311</td>\n",
              "      <td>-0.205422</td>\n",
              "      <td>-0.184567</td>\n",
              "      <td>-1.000000</td>\n",
              "      <td>-0.391032</td>\n",
              "    </tr>\n",
              "    <tr>\n",
              "      <th>14</th>\n",
              "      <td>0.074035</td>\n",
              "      <td>0.430657</td>\n",
              "      <td>-0.028154</td>\n",
              "      <td>0.315954</td>\n",
              "      <td>0.178311</td>\n",
              "      <td>-0.205422</td>\n",
              "      <td>-0.184567</td>\n",
              "      <td>-1.000000</td>\n",
              "      <td>-0.391032</td>\n",
              "      <td>-0.574557</td>\n",
              "    </tr>\n",
              "  </tbody>\n",
              "</table>\n",
              "</div>"
            ],
            "text/plain": [
              "    var1(t-10)  var1(t-9)  var1(t-8)  ...  var1(t-3)  var1(t-2)  var1(t-1)\n",
              "10    0.522419   1.000000   0.630866  ...   0.315954   0.178311  -0.205422\n",
              "11    1.000000   0.630866   0.537018  ...   0.178311  -0.205422  -0.184567\n",
              "12    0.630866   0.537018   0.074035  ...  -0.205422  -0.184567  -1.000000\n",
              "13    0.537018   0.074035   0.430657  ...  -0.184567  -1.000000  -0.391032\n",
              "14    0.074035   0.430657  -0.028154  ...  -1.000000  -0.391032  -0.574557\n",
              "\n",
              "[5 rows x 10 columns]"
            ]
          },
          "metadata": {},
          "execution_count": 9
        }
      ]
    },
    {
      "cell_type": "code",
      "metadata": {
        "colab": {
          "base_uri": "https://localhost:8080/"
        },
        "id": "IOOufcUF6v0e",
        "outputId": "0477d781-cb91-47d4-d503-597728a6ce9f"
      },
      "source": [
        "values = reframed.values\n",
        "x_test = values[4:, :]\n",
        "x_test = x_test.reshape((x_test.shape[0], 1, x_test.shape[1]))\n",
        "x_test"
      ],
      "execution_count": 10,
      "outputs": [
        {
          "output_type": "execute_result",
          "data": {
            "text/plain": [
              "array([[[ 0.07403541,  0.4306569 , -0.02815425,  0.3159542 ,\n",
              "          0.17831087, -0.20542228, -0.18456721, -1.        ,\n",
              "         -0.39103234, -0.5745568 ]]], dtype=float32)"
            ]
          },
          "metadata": {},
          "execution_count": 10
        }
      ]
    },
    {
      "cell_type": "code",
      "metadata": {
        "colab": {
          "base_uri": "https://localhost:8080/"
        },
        "id": "PVN4UnRK6_bZ",
        "outputId": "b58546ff-17e6-48ef-ed7e-9183dcdbf257"
      },
      "source": [
        "\n",
        "def agregarNuevoValor(x_test,nuevoValor):\n",
        "    for i in range(x_test.shape[2]-1):\n",
        "        x_test[0][0][i] = x_test[0][0][i+1]\n",
        "    x_test[0][0][x_test.shape[2]-1]=nuevoValor\n",
        "    return x_test\n",
        " \n",
        "results=[]\n",
        "for i in range(10):\n",
        "    parcial=model.predict(x_test)\n",
        "    results.append(parcial[0])\n",
        "    print(x_test)\n",
        "    x_test=agregarNuevoValor(x_test,parcial[0])"
      ],
      "execution_count": 11,
      "outputs": [
        {
          "output_type": "stream",
          "name": "stdout",
          "text": [
            "[[[ 0.07403541  0.4306569  -0.02815425  0.3159542   0.17831087\n",
            "   -0.20542228 -0.18456721 -1.         -0.39103234 -0.5745568 ]]]\n",
            "[[[ 0.4306569  -0.02815425  0.3159542   0.17831087 -0.20542228\n",
            "   -0.18456721 -1.         -0.39103234 -0.5745568  -0.3822905 ]]]\n",
            "[[[-0.02815425  0.3159542   0.17831087 -0.20542228 -0.18456721\n",
            "   -1.         -0.39103234 -0.5745568  -0.3822905  -0.08582158]]]\n",
            "[[[ 0.3159542   0.17831087 -0.20542228 -0.18456721 -1.\n",
            "   -0.39103234 -0.5745568  -0.3822905  -0.08582158 -0.25376385]]]\n",
            "[[[ 0.17831087 -0.20542228 -0.18456721 -1.         -0.39103234\n",
            "   -0.5745568  -0.3822905  -0.08582158 -0.25376385  0.01971765]]]\n",
            "[[[-0.20542228 -0.18456721 -1.         -0.39103234 -0.5745568\n",
            "   -0.3822905  -0.08582158 -0.25376385  0.01971765  0.04988877]]]\n",
            "[[[-0.18456721 -1.         -0.39103234 -0.5745568  -0.3822905\n",
            "   -0.08582158 -0.25376385  0.01971765  0.04988877  0.14332317]]]\n",
            "[[[-1.         -0.39103234 -0.5745568  -0.3822905  -0.08582158\n",
            "   -0.25376385  0.01971765  0.04988877  0.14332317  0.33843404]]]\n",
            "[[[-0.39103234 -0.5745568  -0.3822905  -0.08582158 -0.25376385\n",
            "    0.01971765  0.04988877  0.14332317  0.33843404  0.18691033]]]\n",
            "[[[-0.5745568  -0.3822905  -0.08582158 -0.25376385  0.01971765\n",
            "    0.04988877  0.14332317  0.33843404  0.18691033  0.30467933]]]\n"
          ]
        }
      ]
    },
    {
      "cell_type": "code",
      "metadata": {
        "colab": {
          "base_uri": "https://localhost:8080/"
        },
        "id": "EWZYKK-S7BmX",
        "outputId": "a398b5fe-3425-4c95-fd54-a701733dc023"
      },
      "source": [
        "adimen = [x for x in results]    \n",
        "inverted = scaler.inverse_transform(adimen)\n",
        "inverted"
      ],
      "execution_count": 12,
      "outputs": [
        {
          "output_type": "execute_result",
          "data": {
            "text/plain": [
              "array([[5.74191688],\n",
              "       [7.16348544],\n",
              "       [6.35820221],\n",
              "       [7.66954603],\n",
              "       [7.81421656],\n",
              "       [8.26223449],\n",
              "       [9.19779113],\n",
              "       [8.47123494],\n",
              "       [9.03593732],\n",
              "       [8.80530198]])"
            ]
          },
          "metadata": {},
          "execution_count": 12
        }
      ]
    },
    {
      "cell_type": "code",
      "metadata": {
        "colab": {
          "base_uri": "https://localhost:8080/",
          "height": 265
        },
        "id": "BulRfRQ-7JfE",
        "outputId": "3a36cf48-fb81-4936-95a3-7b1c85321d89"
      },
      "source": [
        "\n",
        "prediccion1SemanaDiciembre = pd.DataFrame(inverted)\n",
        "prediccion1SemanaDiciembre.columns = ['pronostico']\n",
        "prediccion1SemanaDiciembre.plot()\n",
        "prediccion1SemanaDiciembre.to_csv('pronostico.csv')"
      ],
      "execution_count": 16,
      "outputs": [
        {
          "output_type": "display_data",
          "data": {
            "image/png": "[encoded data removed]",
            "text/plain": [
              "<Figure size 432x288 with 1 Axes>"
            ]
          },
          "metadata": {
            "needs_background": "light"
          }
        }
      ]
    },
    {
      "cell_type": "code",
      "metadata": {
        "colab": {
          "base_uri": "https://localhost:8080/"
        },
        "id": "BUsIE9lQDV0K",
        "outputId": "3f2743d2-c913-4c14-a3bf-8380e18631e0"
      },
      "source": [
        "x_train"
      ],
      "execution_count": null,
      "outputs": [
        {
          "output_type": "execute_result",
          "data": {
            "text/plain": [
              "array([[236., 237., 290., ..., 128., 293., 260.],\n",
              "       [237., 290., 221., ..., 293., 260., 204.],\n",
              "       [290., 221., 128., ..., 260., 204., 157.],\n",
              "       ...,\n",
              "       [234., 322., 230., ..., 298., 277., 387.],\n",
              "       [322., 230., 102., ..., 277., 387., 305.],\n",
              "       [230., 102., 298., ..., 387., 305., 263.]], dtype=float32)"
            ]
          },
          "metadata": {},
          "execution_count": 27
        }
      ]
    },
    {
      "cell_type": "code",
      "metadata": {
        "colab": {
          "base_uri": "https://localhost:8080/"
        },
        "id": "jNRRCSWUA5-I",
        "outputId": "86f42020-f384-4983-df69-12d27db0fe84"
      },
      "source": [
        "lr = linear_model.LinearRegression()\n",
        "\n",
        "\n",
        "\n",
        "#Entreno el modelo\n",
        "lr.fit(x_train, y_train)\n",
        "\n"
      ],
      "execution_count": null,
      "outputs": [
        {
          "output_type": "execute_result",
          "data": {
            "text/plain": [
              "LinearRegression()"
            ]
          },
          "metadata": {},
          "execution_count": 29
        }
      ]
    },
    {
      "cell_type": "code",
      "metadata": {
        "colab": {
          "base_uri": "https://localhost:8080/"
        },
        "id": "RHgHMOIXFNoy",
        "outputId": "7d28d4ef-abc2-48f2-f114-abd4d22938ca"
      },
      "source": [
        "#Realizo una predicción\n",
        "y_pred = lr.predict(x_val)\n",
        "y_pred"
      ],
      "execution_count": null,
      "outputs": [
        {
          "output_type": "execute_result",
          "data": {
            "text/plain": [
              "array([252.55136, 274.21872, 304.83032, 292.12192, 259.41248, 225.65733,\n",
              "       276.57068, 270.56042, 248.46129, 233.23325, 214.06833, 228.07278,\n",
              "       297.7396 , 329.10532, 368.8314 , 351.9118 , 253.41724, 266.7266 ,\n",
              "       320.92923, 287.38385, 275.0271 , 301.86978, 285.91882, 237.23279,\n",
              "       327.3092 , 331.60477, 291.8076 , 274.99506, 265.3982 , 221.13269,\n",
              "       293.63177, 313.04874, 331.0174 , 280.77444, 344.19177, 328.2297 ,\n",
              "       283.60703, 290.5661 , 291.96793, 238.01587, 273.7226 , 300.07977,\n",
              "       278.39337, 255.25647, 280.98407, 266.86392, 190.98909, 238.65674,\n",
              "       261.63245, 236.9474 , 266.24863, 248.11282, 204.58426, 238.17067,\n",
              "       226.97758, 212.93813, 224.43639, 234.72728, 208.8552 , 254.09828,\n",
              "       235.82571, 221.7568 , 212.77538, 196.75716, 169.06587, 235.68398,\n",
              "       256.84436, 244.60135, 235.65727, 256.67963, 229.71257, 171.31337,\n",
              "       244.61292, 255.48784, 244.6922 , 235.68929, 211.03157, 164.75278,\n",
              "       207.92398, 213.13705, 194.0341 , 210.23898, 182.61095, 211.60178,\n",
              "       219.73407, 210.2456 , 186.63493, 207.23416, 178.02168, 198.76807,\n",
              "       213.41577, 196.61754, 196.66281, 202.16994, 196.6921 , 148.15628,\n",
              "       203.56856, 216.98239, 230.43651, 164.24786, 178.97952, 164.83418,\n",
              "       215.07172, 210.11691, 179.66495, 173.34521, 187.53038, 167.10957,\n",
              "       206.89336, 203.27052, 203.73557, 207.46336, 178.58505, 155.18134,\n",
              "       187.38762, 211.69006, 190.2704 , 188.39836, 192.70282, 187.43738],\n",
              "      dtype=float32)"
            ]
          },
          "metadata": {},
          "execution_count": 32
        }
      ]
    },
    {
      "cell_type": "code",
      "metadata": {
        "colab": {
          "base_uri": "https://localhost:8080/"
        },
        "id": "n6TNcgv-FT8J",
        "outputId": "e744f1b6-8ce1-4801-e848-f2c262d41c7f"
      },
      "source": [
        "y_val"
      ],
      "execution_count": null,
      "outputs": [
        {
          "output_type": "execute_result",
          "data": {
            "text/plain": [
              "array([344., 286., 284., 258., 189., 170., 346., 363., 471., 399., 186.,\n",
              "       305., 362., 296., 308., 354., 285., 158., 438., 365., 317., 310.,\n",
              "       259., 169., 390., 301., 407., 214., 461., 332., 296., 331., 321.,\n",
              "       188., 342., 298., 295., 258., 342., 296., 101., 291., 276., 219.,\n",
              "       326., 242., 171., 280., 221., 210., 235., 248., 156., 313., 228.,\n",
              "       247., 216., 184., 113., 298., 226., 271., 242., 319., 213.,  82.,\n",
              "       307., 258., 276., 245., 214.,  84., 272., 203., 182., 224., 135.,\n",
              "       240., 222., 219., 153., 248., 122., 226., 189., 196., 209., 230.,\n",
              "       171.,  62., 252., 220., 296.,  65., 213.,  96., 275., 201., 165.,\n",
              "       163., 202., 101., 241., 181., 229., 219., 152., 111., 207., 206.,\n",
              "       183., 200., 187., 189.,  76., 276., 220., 183., 251., 189.],\n",
              "      dtype=float32)"
            ]
          },
          "metadata": {},
          "execution_count": 33
        }
      ]
    }
  ]
}